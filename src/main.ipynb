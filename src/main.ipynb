{
 "cells": [
  {
   "cell_type": "code",
   "execution_count": 295,
   "metadata": {},
   "outputs": [],
   "source": [
    " #main script"
   ]
  },
  {
   "cell_type": "code",
   "execution_count": 310,
   "metadata": {},
   "outputs": [],
   "source": [
    "import matplotlib.pyplot as plt\n",
    "import numpy as np\n",
    "import pandas as pd\n",
    "import lstm as lstm\n",
    "import preprocess as pp\n",
    "import os"
   ]
  },
  {
   "cell_type": "code",
   "execution_count": 311,
   "metadata": {},
   "outputs": [],
   "source": [
    "np.random.seed(0)\n",
    "\n",
    "#Check data file\n",
    "dataset_dir = os.path.join(os.getcwd(), 'data')\n",
    "index = 'GE.csv'\n",
    "assert index in os.listdir(dataset_dir)"
   ]
  },
  {
   "cell_type": "code",
   "execution_count": 312,
   "metadata": {},
   "outputs": [
    {
     "data": {
      "text/html": [
       "<div>\n",
       "<style scoped>\n",
       "    .dataframe tbody tr th:only-of-type {\n",
       "        vertical-align: middle;\n",
       "    }\n",
       "\n",
       "    .dataframe tbody tr th {\n",
       "        vertical-align: top;\n",
       "    }\n",
       "\n",
       "    .dataframe thead th {\n",
       "        text-align: right;\n",
       "    }\n",
       "</style>\n",
       "<table border=\"1\" class=\"dataframe\">\n",
       "  <thead>\n",
       "    <tr style=\"text-align: right;\">\n",
       "      <th></th>\n",
       "      <th>Open</th>\n",
       "      <th>High</th>\n",
       "      <th>Low</th>\n",
       "      <th>Close</th>\n",
       "    </tr>\n",
       "  </thead>\n",
       "  <tbody>\n",
       "    <tr>\n",
       "      <th>3999</th>\n",
       "      <td>41.00</td>\n",
       "      <td>41.90</td>\n",
       "      <td>40.41</td>\n",
       "      <td>41.53</td>\n",
       "    </tr>\n",
       "    <tr>\n",
       "      <th>3998</th>\n",
       "      <td>41.52</td>\n",
       "      <td>41.83</td>\n",
       "      <td>40.40</td>\n",
       "      <td>40.47</td>\n",
       "    </tr>\n",
       "    <tr>\n",
       "      <th>3997</th>\n",
       "      <td>40.55</td>\n",
       "      <td>41.30</td>\n",
       "      <td>40.29</td>\n",
       "      <td>40.85</td>\n",
       "    </tr>\n",
       "    <tr>\n",
       "      <th>3996</th>\n",
       "      <td>40.90</td>\n",
       "      <td>41.31</td>\n",
       "      <td>40.61</td>\n",
       "      <td>41.04</td>\n",
       "    </tr>\n",
       "    <tr>\n",
       "      <th>3995</th>\n",
       "      <td>41.10</td>\n",
       "      <td>42.26</td>\n",
       "      <td>41.01</td>\n",
       "      <td>41.99</td>\n",
       "    </tr>\n",
       "    <tr>\n",
       "      <th>3994</th>\n",
       "      <td>42.00</td>\n",
       "      <td>42.56</td>\n",
       "      <td>41.65</td>\n",
       "      <td>42.17</td>\n",
       "    </tr>\n",
       "    <tr>\n",
       "      <th>3993</th>\n",
       "      <td>42.25</td>\n",
       "      <td>42.30</td>\n",
       "      <td>41.15</td>\n",
       "      <td>41.23</td>\n",
       "    </tr>\n",
       "    <tr>\n",
       "      <th>3992</th>\n",
       "      <td>41.65</td>\n",
       "      <td>41.65</td>\n",
       "      <td>40.60</td>\n",
       "      <td>40.61</td>\n",
       "    </tr>\n",
       "    <tr>\n",
       "      <th>3991</th>\n",
       "      <td>40.70</td>\n",
       "      <td>41.50</td>\n",
       "      <td>39.84</td>\n",
       "      <td>40.20</td>\n",
       "    </tr>\n",
       "    <tr>\n",
       "      <th>3990</th>\n",
       "      <td>40.15</td>\n",
       "      <td>41.20</td>\n",
       "      <td>40.07</td>\n",
       "      <td>40.98</td>\n",
       "    </tr>\n",
       "  </tbody>\n",
       "</table>\n",
       "</div>"
      ],
      "text/plain": [
       "       Open   High    Low  Close\n",
       "3999  41.00  41.90  40.41  41.53\n",
       "3998  41.52  41.83  40.40  40.47\n",
       "3997  40.55  41.30  40.29  40.85\n",
       "3996  40.90  41.31  40.61  41.04\n",
       "3995  41.10  42.26  41.01  41.99\n",
       "3994  42.00  42.56  41.65  42.17\n",
       "3993  42.25  42.30  41.15  41.23\n",
       "3992  41.65  41.65  40.60  40.61\n",
       "3991  40.70  41.50  39.84  40.20\n",
       "3990  40.15  41.20  40.07  40.98"
      ]
     },
     "execution_count": 312,
     "metadata": {},
     "output_type": "execute_result"
    }
   ],
   "source": [
    "#Import data \n",
    "ls = os.listdir(dataset_dir)\n",
    "for i in ls:\n",
    "    if i == index:\n",
    "        dataset = pd.read_csv(os.path.join(dataset_dir, i), usecols=[1,2,3,4])\n",
    "\n",
    "dataset = dataset.reindex(index = dataset.index[::-1])\n",
    "dataset.head(10)"
   ]
  },
  {
   "cell_type": "code",
   "execution_count": 313,
   "metadata": {},
   "outputs": [],
   "source": [
    "#Select indicators\n",
    "OHLC_avg = pp.select_fields(dataset, ['Open', 'High', 'Low', 'Close']) \n",
    "HLC_avg = pp.select_fields(dataset, ['High', 'Low', 'Close'])\n",
    "close = dataset[['Close']]"
   ]
  },
  {
   "cell_type": "code",
   "execution_count": 314,
   "metadata": {},
   "outputs": [],
   "source": [
    "counter = np.arange(1, len(dataset) + 1, 1)"
   ]
  },
  {
   "cell_type": "code",
   "execution_count": 315,
   "metadata": {},
   "outputs": [
    {
     "data": {
      "image/png": "[encoded data removed]",
      "text/plain": [
       "<matplotlib.figure.Figure at 0x7f9b6ba92a10>"
      ]
     },
     "metadata": {},
     "output_type": "display_data"
    }
   ],
   "source": [
    "plt.plot(counter, OHLC_avg, 'r', label = 'OHLC avg')\n",
    "plt.plot(counter, HLC_avg, 'b', label = 'HLC avg')\n",
    "plt.plot(counter, close, 'g', label = 'Closing price')\n",
    "plt.legend(loc = 'upper right')\n",
    "\n",
    "plt.show()"
   ]
  },
  {
   "cell_type": "code",
   "execution_count": 316,
   "metadata": {},
   "outputs": [
    {
     "name": "stdout",
     "output_type": "stream",
     "text": [
      "[[0.97497703]\n",
      " [0.97059447]\n",
      " [0.96190005]\n",
      " ...\n",
      " [0.56110836]\n",
      " [0.5640065 ]\n",
      " [0.56718739]]\n"
     ]
    }
   ],
   "source": [
    "OHLC_avg = pp.normalize(OHLC_avg)"
   ]
  },
  {
   "cell_type": "code",
   "execution_count": 317,
   "metadata": {},
   "outputs": [
    {
     "data": {
      "text/plain": [
       "array([[0.97497703],\n",
       "       [0.97059447],\n",
       "       [0.96190005],\n",
       "       ...,\n",
       "       [0.51021418],\n",
       "       [0.50823496],\n",
       "       [0.50611437]])"
      ]
     },
     "execution_count": 317,
     "metadata": {},
     "output_type": "execute_result"
    }
   ],
   "source": [
    "# TRAIN-TEST SPLIT\n",
    "train, test = pp.split(OHLC_avg, 0.75)\n",
    "\n",
    "train\n"
   ]
  },
  {
   "cell_type": "code",
   "execution_count": 318,
   "metadata": {},
   "outputs": [
    {
     "data": {
      "text/plain": [
       "((2999, 1), (2999,))"
      ]
     },
     "execution_count": 318,
     "metadata": {},
     "output_type": "execute_result"
    }
   ],
   "source": [
    "def preprocess(dataset, step): \n",
    "\tx, y = [], []\n",
    "\tfor i in range(len(dataset)-step):\n",
    "\t\ttmp = dataset[i:(i+step),0]\n",
    "\t\tx.append(tmp)\n",
    "\t\ty.append(dataset[i + step, 0])\n",
    "\t\n",
    "\treturn np.array(x), np.array(y)\n",
    "\n",
    "\n",
    "#time step 1\n",
    "trainX, trainY = preprocess(train, 1)\n",
    "testX, testY = preprocess(test, 1)\n",
    "\n",
    "trainX.shape, trainY.shape"
   ]
  },
  {
   "cell_type": "code",
   "execution_count": 319,
   "metadata": {},
   "outputs": [
    {
     "data": {
      "text/plain": [
       "((2999, 1, 1), (999, 1, 1))"
      ]
     },
     "execution_count": 319,
     "metadata": {},
     "output_type": "execute_result"
    }
   ],
   "source": [
    "#reshape X inputs must be of dim 3\n",
    "trainX = np.reshape(trainX, (trainX.shape[0], 1, trainX.shape[1]))\n",
    "testX = np.reshape(testX, (testX.shape[0], 1, testX.shape[1]))\n",
    "\n",
    "step_size = 1\n",
    "\n",
    "trainX.shape, testX.shape\n",
    "\n"
   ]
  },
  {
   "cell_type": "code",
   "execution_count": 320,
   "metadata": {},
   "outputs": [
    {
     "name": "stdout",
     "output_type": "stream",
     "text": [
      "Epoch 1/5\n",
      " - 19s - loss: 1.2607e-04\n",
      "Epoch 2/5\n",
      " - 19s - loss: 1.2518e-04\n",
      "Epoch 3/5\n",
      " - 18s - loss: 1.2607e-04\n",
      "Epoch 4/5\n",
      " - 17s - loss: 1.2595e-04\n",
      "Epoch 5/5\n",
      " - 17s - loss: 1.2595e-04\n"
     ]
    },
    {
     "data": {
      "text/plain": [
       "<keras.callbacks.History at 0x7f9b6b4603d0>"
      ]
     },
     "execution_count": 320,
     "metadata": {},
     "output_type": "execute_result"
    }
   ],
   "source": [
    "#Training\n",
    "lstm.model.fit(trainX, trainY, epochs=5, batch_size=1, verbose=2)"
   ]
  },
  {
   "cell_type": "code",
   "execution_count": 321,
   "metadata": {},
   "outputs": [
    {
     "name": "stdout",
     "output_type": "stream",
     "text": [
      "(2999, 1) (999, 1)\n",
      "(1, 2999) (1, 999)\n"
     ]
    }
   ],
   "source": [
    "#Predicted results are normalized values \n",
    "trainPredict = lstm.model.predict(trainX)\n",
    "testPredict = lstm.model.predict(testX)\n",
    "\n",
    "denormalized_trainPredict = scaler.inverse_transform(trainPredict)\n",
    "denormalized_testPredict = scaler.inverse_transform(testPredict)\n",
    "print denormalized_trainPredict.shape, denormalized_testPredict.shape\n",
    "\n",
    "denormalized_trainY = scaler.inverse_transform([trainY])\n",
    "denormalized_testY = scaler.inverse_transform([testY]) \n",
    "print denormalized_trainY.shape, denormalized_testY.shape\n"
   ]
  },
  {
   "cell_type": "code",
   "execution_count": 322,
   "metadata": {},
   "outputs": [
    {
     "name": "stdout",
     "output_type": "stream",
     "text": [
      "Score: Training RMSE: 0.3934\n",
      "Score: Testing RMSE: 0.2643\n"
     ]
    }
   ],
   "source": [
    "\n",
    "#Evaluate model\n",
    "trainScore = math.sqrt(mean_squared_error(denormalized_trainY[0], denormalized_trainPredict[:,0]))\n",
    "testScore = math.sqrt(mean_squared_error(denormalized_testY[0], denormalized_testPredict[:,0]))\n",
    "\n",
    "print('Score: Training RMSE: %.4f' % (trainScore))\n",
    "print('Score: Testing RMSE: %.4f' % (testScore))\n",
    "\n"
   ]
  },
  {
   "cell_type": "code",
   "execution_count": 374,
   "metadata": {},
   "outputs": [
    {
     "name": "stdout",
     "output_type": "stream",
     "text": [
      "(2999, 1) (999, 1)\n"
     ]
    },
    {
     "data": {
      "image/png": "[encoded data removed]",
      "text/plain": [
       "<matplotlib.figure.Figure at 0x7f9b6b149fd0>"
      ]
     },
     "metadata": {},
     "output_type": "display_data"
    }
   ],
   "source": [
    "#Checking shape to plot training/testing data \n",
    "print denormalized_trainPredict.shape, denormalized_testPredict.shape\n",
    "\n",
    "#Same dataset for plotting 3 types of info \n",
    "\n",
    "#Training 0-2999\n",
    "p1 = np.empty_like(OHLC_avg)\n",
    "p1[:, :] = np.nan\n",
    "p1[0:len(denormalized_trainPredict)] = denormalized_trainPredict  \n",
    "\n",
    "#Testing 3000-3999\n",
    "p2 = np.empty_like(OHLC_avg)\n",
    "p2[:, :] = np.nan\n",
    "p2[len(denormalized_trainPredict): len(OHLC_avg)-1-step_size, :] \\\n",
    "                = denormalized_testPredict\n",
    "\n",
    "    \n",
    "#Denormalize main OHLC  \n",
    "OHLC_avg = scaler.inverse_transform(OHLC_avg)\n",
    "\n",
    "\n",
    "# plt.plot(OHLC_avg, 'g', label = 'original dataset')\n",
    "plt.plot(p1, 'r', label = 'training set')\n",
    "plt.plot(p2, 'b', label = 'predicted stock price/test set')\n",
    "plt.legend(loc = 'upper right')\n",
    "plt.xlabel('Time in Days')\n",
    "plt.ylabel('OHLC Value of GE Stocks')\n",
    "plt.show()\n"
   ]
  },
  {
   "cell_type": "code",
   "execution_count": 386,
   "metadata": {},
   "outputs": [
    {
     "name": "stdout",
     "output_type": "stream",
     "text": [
      "Last Day Value: 0.5643\n",
      "Next Day Value: 0.5612\n",
      "Value Difference: -0.5501%\n"
     ]
    }
   ],
   "source": [
    "#Predict next day stock value\n",
    "last_val = testPredict[-1]\n",
    "last_val_scaled = last_val/last_val\n",
    "next_val = lstm.model.predict(np.reshape(last_val_scaled, (1,1,1)))\n",
    "# print np.append(last_val, next_val) \n",
    "last, next = np.asscalar(last_val), np.asscalar(last_val*next_val)\n",
    "diff = (next - last)/last*100\n",
    "print(\"Last Day Value: %.4f\" % last) \n",
    "print(\"Next Day Value: %.4f\" % next) \n",
    "print(\"Value Difference: %.4f\" % diff + \"%\" ) "
   ]
  },
  {
   "cell_type": "code",
   "execution_count": null,
   "metadata": {},
   "outputs": [],
   "source": []
  },
  {
   "cell_type": "code",
   "execution_count": null,
   "metadata": {},
   "outputs": [],
   "source": []
  }
 ],
 "metadata": {
  "kernelspec": {
   "display_name": "Python 2",
   "language": "python",
   "name": "python2"
  },
  "language_info": {
   "codemirror_mode": {
    "name": "ipython",
    "version": 2
   },
   "file_extension": ".py",
   "mimetype": "text/x-python",
   "name": "python",
   "nbconvert_exporter": "python",
   "pygments_lexer": "ipython2",
   "version": "2.7.12"
  }
 },
 "nbformat": 4,
 "nbformat_minor": 2
}
